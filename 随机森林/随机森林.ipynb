{
 "cells": [
  {
   "cell_type": "code",
   "execution_count": null,
   "metadata": {},
   "outputs": [],
   "source": [
    "http://www.cnblogs.com/pinard/p/6160412.html"
   ]
  },
  {
   "cell_type": "code",
   "execution_count": 28,
   "metadata": {},
   "outputs": [],
   "source": [
    "import numpy as np\n",
    "import pandas as pd\n",
    "import matplotlib.pyplot as plt\n",
    "%matplotlib inline\n",
    "from sklearn.cross_validation import train_test_split"
   ]
  },
  {
   "cell_type": "code",
   "execution_count": 29,
   "metadata": {},
   "outputs": [],
   "source": [
    "df = open('D:\\\\My_python_Data\\\\Jupyter\\\\2016鸟\\\\白鹡鸰 .csv')\n",
    "my_raw_data = pd.read_csv(df)\n",
    "mydata = my_raw_data[['个体数', '低温', 'A', 'B', 'C', 'D', 'E', 'F', 'G', 'H', 'I']]\n",
    "y = mydata.个体数\n",
    "X = mydata[['低温', 'A', 'B', 'C', 'D', 'E', 'F', 'G', 'H', 'I']]\n",
    "X_train, X_test, y_train, y_test = train_test_split(X, y, random_state=1)\n"
   ]
  },
  {
   "cell_type": "code",
   "execution_count": 12,
   "metadata": {},
   "outputs": [
    {
     "data": {
      "text/plain": [
       "0    2699\n",
       "1     928\n",
       "Name: 个体数, dtype: int64"
      ]
     },
     "execution_count": 12,
     "metadata": {},
     "output_type": "execute_result"
    }
   ],
   "source": [
    "mydata.个体数.value_counts()"
   ]
  },
  {
   "cell_type": "code",
   "execution_count": 13,
   "metadata": {},
   "outputs": [
    {
     "data": {
      "text/plain": [
       "['低温', 'A', 'B', 'C', 'D', 'E', 'F', 'G', 'H', 'I']"
      ]
     },
     "execution_count": 13,
     "metadata": {},
     "output_type": "execute_result"
    }
   ],
   "source": [
    "x_columns = [x for x in mydata.columns if x not in ['个体数']]\n",
    "x_columns"
   ]
  },
  {
   "cell_type": "code",
   "execution_count": 14,
   "metadata": {},
   "outputs": [],
   "source": [
    "from sklearn.ensemble import RandomForestClassifier\n",
    "from sklearn.grid_search import GridSearchCV\n",
    "from sklearn import cross_validation, metrics"
   ]
  },
  {
   "cell_type": "code",
   "execution_count": 30,
   "metadata": {},
   "outputs": [
    {
     "data": {
      "text/plain": [
       "RandomForestClassifier(bootstrap=True, class_weight=None, criterion='gini',\n",
       "            max_depth=None, max_features='auto', max_leaf_nodes=None,\n",
       "            min_impurity_decrease=0.0, min_impurity_split=None,\n",
       "            min_samples_leaf=1, min_samples_split=2,\n",
       "            min_weight_fraction_leaf=0.0, n_estimators=100, n_jobs=1,\n",
       "            oob_score=True, random_state=10, verbose=0, warm_start=False)"
      ]
     },
     "execution_count": 30,
     "metadata": {},
     "output_type": "execute_result"
    }
   ],
   "source": [
    "rf0 = RandomForestClassifier(n_estimators = 100, oob_score = True, criterion = 'gini', random_state=10)\n",
    "rf0.fit(X_train, y_train)"
   ]
  },
  {
   "cell_type": "code",
   "execution_count": 31,
   "metadata": {},
   "outputs": [
    {
     "data": {
      "text/plain": [
       "0.7577205882352941"
      ]
     },
     "execution_count": 31,
     "metadata": {},
     "output_type": "execute_result"
    }
   ],
   "source": [
    "rf0.oob_score_"
   ]
  },
  {
   "cell_type": "code",
   "execution_count": 17,
   "metadata": {},
   "outputs": [
    {
     "name": "stdout",
     "output_type": "stream",
     "text": [
      "AUC Score (Train): 0.940213\n"
     ]
    }
   ],
   "source": [
    "y_predprob = rf0.predict_proba(X)[:,1]\n",
    "print (\"AUC Score (Train): %f\" % metrics.roc_auc_score(y, y_predprob))"
   ]
  },
  {
   "cell_type": "code",
   "execution_count": 32,
   "metadata": {},
   "outputs": [
    {
     "data": {
      "text/plain": [
       "([mean: 0.75629, std: 0.02606, params: {'n_estimators': 10},\n",
       "  mean: 0.75649, std: 0.03146, params: {'n_estimators': 20},\n",
       "  mean: 0.75641, std: 0.02988, params: {'n_estimators': 30},\n",
       "  mean: 0.75596, std: 0.02895, params: {'n_estimators': 40},\n",
       "  mean: 0.75684, std: 0.02906, params: {'n_estimators': 50},\n",
       "  mean: 0.75747, std: 0.02888, params: {'n_estimators': 60},\n",
       "  mean: 0.75682, std: 0.02757, params: {'n_estimators': 70}],\n",
       " {'n_estimators': 60},\n",
       " 0.7574677613261063)"
      ]
     },
     "execution_count": 32,
     "metadata": {},
     "output_type": "execute_result"
    }
   ],
   "source": [
    "param_test1 = {'n_estimators':list(range(10,71,10))}\n",
    "gsearch1 = GridSearchCV(estimator = RandomForestClassifier(min_samples_split=100,\n",
    "                                  min_samples_leaf=20,max_depth=8,max_features='sqrt' ,random_state=10), \n",
    "                       param_grid =param_test1, scoring='roc_auc',cv=5)\n",
    "gsearch1.fit(X_train,y_train)\n",
    "gsearch1.grid_scores_, gsearch1.best_params_, gsearch1.best_score_\n"
   ]
  },
  {
   "cell_type": "code",
   "execution_count": 33,
   "metadata": {},
   "outputs": [
    {
     "data": {
      "text/plain": [
       "([mean: 0.75646, std: 0.03548, params: {'max_depth': 3, 'min_samples_split': 50},\n",
       "  mean: 0.75620, std: 0.03474, params: {'max_depth': 3, 'min_samples_split': 70},\n",
       "  mean: 0.75668, std: 0.03505, params: {'max_depth': 3, 'min_samples_split': 90},\n",
       "  mean: 0.75689, std: 0.03481, params: {'max_depth': 3, 'min_samples_split': 110},\n",
       "  mean: 0.75665, std: 0.03496, params: {'max_depth': 3, 'min_samples_split': 130},\n",
       "  mean: 0.75519, std: 0.03367, params: {'max_depth': 3, 'min_samples_split': 150},\n",
       "  mean: 0.75227, std: 0.03320, params: {'max_depth': 3, 'min_samples_split': 170},\n",
       "  mean: 0.75044, std: 0.03174, params: {'max_depth': 3, 'min_samples_split': 190},\n",
       "  mean: 0.75922, std: 0.03130, params: {'max_depth': 5, 'min_samples_split': 50},\n",
       "  mean: 0.75983, std: 0.03180, params: {'max_depth': 5, 'min_samples_split': 70},\n",
       "  mean: 0.75706, std: 0.03136, params: {'max_depth': 5, 'min_samples_split': 90},\n",
       "  mean: 0.75579, std: 0.03055, params: {'max_depth': 5, 'min_samples_split': 110},\n",
       "  mean: 0.75607, std: 0.03087, params: {'max_depth': 5, 'min_samples_split': 130},\n",
       "  mean: 0.75489, std: 0.02972, params: {'max_depth': 5, 'min_samples_split': 150},\n",
       "  mean: 0.75430, std: 0.02969, params: {'max_depth': 5, 'min_samples_split': 170},\n",
       "  mean: 0.75334, std: 0.03069, params: {'max_depth': 5, 'min_samples_split': 190},\n",
       "  mean: 0.75934, std: 0.03208, params: {'max_depth': 7, 'min_samples_split': 50},\n",
       "  mean: 0.75827, std: 0.03225, params: {'max_depth': 7, 'min_samples_split': 70},\n",
       "  mean: 0.75554, std: 0.02878, params: {'max_depth': 7, 'min_samples_split': 90},\n",
       "  mean: 0.75567, std: 0.02970, params: {'max_depth': 7, 'min_samples_split': 110},\n",
       "  mean: 0.75627, std: 0.03014, params: {'max_depth': 7, 'min_samples_split': 130},\n",
       "  mean: 0.75484, std: 0.02666, params: {'max_depth': 7, 'min_samples_split': 150},\n",
       "  mean: 0.75396, std: 0.02737, params: {'max_depth': 7, 'min_samples_split': 170},\n",
       "  mean: 0.75532, std: 0.02976, params: {'max_depth': 7, 'min_samples_split': 190},\n",
       "  mean: 0.76029, std: 0.02957, params: {'max_depth': 9, 'min_samples_split': 50},\n",
       "  mean: 0.76027, std: 0.03094, params: {'max_depth': 9, 'min_samples_split': 70},\n",
       "  mean: 0.75799, std: 0.02809, params: {'max_depth': 9, 'min_samples_split': 90},\n",
       "  mean: 0.75816, std: 0.02927, params: {'max_depth': 9, 'min_samples_split': 110},\n",
       "  mean: 0.75678, std: 0.03004, params: {'max_depth': 9, 'min_samples_split': 130},\n",
       "  mean: 0.75746, std: 0.02822, params: {'max_depth': 9, 'min_samples_split': 150},\n",
       "  mean: 0.75535, std: 0.02810, params: {'max_depth': 9, 'min_samples_split': 170},\n",
       "  mean: 0.75460, std: 0.02951, params: {'max_depth': 9, 'min_samples_split': 190},\n",
       "  mean: 0.76084, std: 0.02967, params: {'max_depth': 11, 'min_samples_split': 50},\n",
       "  mean: 0.76048, std: 0.03152, params: {'max_depth': 11, 'min_samples_split': 70},\n",
       "  mean: 0.75885, std: 0.02858, params: {'max_depth': 11, 'min_samples_split': 90},\n",
       "  mean: 0.75902, std: 0.02980, params: {'max_depth': 11, 'min_samples_split': 110},\n",
       "  mean: 0.75752, std: 0.03031, params: {'max_depth': 11, 'min_samples_split': 130},\n",
       "  mean: 0.75708, std: 0.02797, params: {'max_depth': 11, 'min_samples_split': 150},\n",
       "  mean: 0.75496, std: 0.02771, params: {'max_depth': 11, 'min_samples_split': 170},\n",
       "  mean: 0.75506, std: 0.03024, params: {'max_depth': 11, 'min_samples_split': 190},\n",
       "  mean: 0.76076, std: 0.02968, params: {'max_depth': 13, 'min_samples_split': 50},\n",
       "  mean: 0.76042, std: 0.03188, params: {'max_depth': 13, 'min_samples_split': 70},\n",
       "  mean: 0.75957, std: 0.02897, params: {'max_depth': 13, 'min_samples_split': 90},\n",
       "  mean: 0.75907, std: 0.02970, params: {'max_depth': 13, 'min_samples_split': 110},\n",
       "  mean: 0.75755, std: 0.03017, params: {'max_depth': 13, 'min_samples_split': 130},\n",
       "  mean: 0.75708, std: 0.02792, params: {'max_depth': 13, 'min_samples_split': 150},\n",
       "  mean: 0.75485, std: 0.02765, params: {'max_depth': 13, 'min_samples_split': 170},\n",
       "  mean: 0.75504, std: 0.03024, params: {'max_depth': 13, 'min_samples_split': 190}],\n",
       " {'max_depth': 11, 'min_samples_split': 50},\n",
       " 0.7608371916298247)"
      ]
     },
     "execution_count": 33,
     "metadata": {},
     "output_type": "execute_result"
    }
   ],
   "source": [
    "param_test2 = {'max_depth':list(range(3,14,2)), 'min_samples_split':list(range(50,201,20))}\n",
    "gsearch2 = GridSearchCV(estimator = RandomForestClassifier(n_estimators= 60, \n",
    "                                  min_samples_leaf=20,max_features='sqrt' ,oob_score=True, random_state=10),\n",
    "   param_grid = param_test2, scoring='roc_auc',iid=False, cv=5)\n",
    "gsearch2.fit(X_train,y_train)\n",
    "gsearch2.grid_scores_, gsearch2.best_params_, gsearch2.best_score_"
   ]
  },
  {
   "cell_type": "code",
   "execution_count": 20,
   "metadata": {},
   "outputs": [
    {
     "name": "stdout",
     "output_type": "stream",
     "text": [
      "0.7879790460435622\n"
     ]
    }
   ],
   "source": [
    "rf1 = RandomForestClassifier(n_estimators= 60, max_depth=13, min_samples_split=130,\n",
    "                                  min_samples_leaf=20,max_features='sqrt' ,oob_score=True, random_state=10)\n",
    "rf1.fit(X,y)\n",
    "print(rf1.oob_score_)"
   ]
  },
  {
   "cell_type": "code",
   "execution_count": 36,
   "metadata": {},
   "outputs": [
    {
     "data": {
      "text/plain": [
       "([mean: 0.76193, std: 0.02887, params: {'min_samples_leaf': 10, 'min_samples_split': 80},\n",
       "  mean: 0.76023, std: 0.02830, params: {'min_samples_leaf': 10, 'min_samples_split': 100},\n",
       "  mean: 0.76100, std: 0.02843, params: {'min_samples_leaf': 10, 'min_samples_split': 120},\n",
       "  mean: 0.75956, std: 0.02690, params: {'min_samples_leaf': 10, 'min_samples_split': 140},\n",
       "  mean: 0.75916, std: 0.03052, params: {'min_samples_leaf': 20, 'min_samples_split': 80},\n",
       "  mean: 0.75800, std: 0.02924, params: {'min_samples_leaf': 20, 'min_samples_split': 100},\n",
       "  mean: 0.76022, std: 0.03001, params: {'min_samples_leaf': 20, 'min_samples_split': 120},\n",
       "  mean: 0.75862, std: 0.03055, params: {'min_samples_leaf': 20, 'min_samples_split': 140},\n",
       "  mean: 0.75980, std: 0.03029, params: {'min_samples_leaf': 30, 'min_samples_split': 80},\n",
       "  mean: 0.75827, std: 0.02844, params: {'min_samples_leaf': 30, 'min_samples_split': 100},\n",
       "  mean: 0.75932, std: 0.02945, params: {'min_samples_leaf': 30, 'min_samples_split': 120},\n",
       "  mean: 0.75902, std: 0.03024, params: {'min_samples_leaf': 30, 'min_samples_split': 140},\n",
       "  mean: 0.75839, std: 0.02869, params: {'min_samples_leaf': 40, 'min_samples_split': 80},\n",
       "  mean: 0.75914, std: 0.02733, params: {'min_samples_leaf': 40, 'min_samples_split': 100},\n",
       "  mean: 0.75856, std: 0.02753, params: {'min_samples_leaf': 40, 'min_samples_split': 120},\n",
       "  mean: 0.75731, std: 0.02964, params: {'min_samples_leaf': 40, 'min_samples_split': 140},\n",
       "  mean: 0.75711, std: 0.02717, params: {'min_samples_leaf': 50, 'min_samples_split': 80},\n",
       "  mean: 0.75711, std: 0.02717, params: {'min_samples_leaf': 50, 'min_samples_split': 100},\n",
       "  mean: 0.75702, std: 0.02754, params: {'min_samples_leaf': 50, 'min_samples_split': 120},\n",
       "  mean: 0.75632, std: 0.02762, params: {'min_samples_leaf': 50, 'min_samples_split': 140}],\n",
       " {'min_samples_leaf': 10, 'min_samples_split': 80},\n",
       " 0.7619298839152415)"
      ]
     },
     "execution_count": 36,
     "metadata": {},
     "output_type": "execute_result"
    }
   ],
   "source": [
    "param_test3 = {'min_samples_split':list(range(80,150,20)), 'min_samples_leaf':list(range(10,60,10))}\n",
    "gsearch3 = GridSearchCV(estimator = RandomForestClassifier(n_estimators= 60, max_depth=11,\n",
    "                                  max_features='sqrt' ,oob_score=True, random_state=10),\n",
    "   param_grid = param_test3, scoring='roc_auc',iid=False, cv=5)\n",
    "gsearch3.fit(X_train,y_train)\n",
    "gsearch3.grid_scores_, gsearch3.best_params_, gsearch3.best_score_"
   ]
  },
  {
   "cell_type": "code",
   "execution_count": 37,
   "metadata": {},
   "outputs": [
    {
     "data": {
      "text/plain": [
       "([mean: 0.76193, std: 0.02887, params: {'max_features': 3},\n",
       "  mean: 0.76144, std: 0.02739, params: {'max_features': 5},\n",
       "  mean: 0.76117, std: 0.02671, params: {'max_features': 7},\n",
       "  mean: 0.76154, std: 0.02685, params: {'max_features': 9}],\n",
       " {'max_features': 3},\n",
       " 0.7619298839152415)"
      ]
     },
     "execution_count": 37,
     "metadata": {},
     "output_type": "execute_result"
    }
   ],
   "source": [
    "param_test4 = {'max_features':list(range(3,11,2))}\n",
    "gsearch4 = GridSearchCV(estimator = RandomForestClassifier(n_estimators= 60, max_depth=11, min_samples_split=80,\n",
    "                                  min_samples_leaf=10 ,oob_score=True, random_state=10),\n",
    "   param_grid = param_test4, scoring='roc_auc',iid=False, cv=5)\n",
    "gsearch4.fit(X_train,y_train)\n",
    "gsearch4.grid_scores_, gsearch4.best_params_, gsearch4.best_score_"
   ]
  },
  {
   "cell_type": "code",
   "execution_count": null,
   "metadata": {},
   "outputs": [],
   "source": []
  },
  {
   "cell_type": "code",
   "execution_count": 38,
   "metadata": {},
   "outputs": [
    {
     "name": "stdout",
     "output_type": "stream",
     "text": [
      "0.7930147058823529\n"
     ]
    }
   ],
   "source": [
    "#调参后的最终模型\n",
    "rf2 = RandomForestClassifier(n_estimators= 60, max_depth=11, min_samples_split=80,\n",
    "                                  min_samples_leaf=10,max_features=3 ,oob_score=True, random_state=10)\n",
    "rf2.fit(X_train,y_train)\n",
    "print (rf2.oob_score_)"
   ]
  },
  {
   "cell_type": "code",
   "execution_count": 39,
   "metadata": {},
   "outputs": [],
   "source": [
    "y_pred = rf2.predict(X_test)"
   ]
  },
  {
   "cell_type": "code",
   "execution_count": 40,
   "metadata": {},
   "outputs": [],
   "source": [
    "from sklearn.metrics import accuracy_score\n",
    "score1 = accuracy_score(y_test, y_pred)"
   ]
  },
  {
   "cell_type": "code",
   "execution_count": 41,
   "metadata": {},
   "outputs": [
    {
     "data": {
      "text/plain": [
       "0.7651598676957001"
      ]
     },
     "execution_count": 41,
     "metadata": {},
     "output_type": "execute_result"
    }
   ],
   "source": [
    "score1"
   ]
  },
  {
   "cell_type": "code",
   "execution_count": null,
   "metadata": {},
   "outputs": [],
   "source": []
  }
 ],
 "metadata": {
  "kernelspec": {
   "display_name": "Python 3",
   "language": "python",
   "name": "python3"
  },
  "language_info": {
   "codemirror_mode": {
    "name": "ipython",
    "version": 3
   },
   "file_extension": ".py",
   "mimetype": "text/x-python",
   "name": "python",
   "nbconvert_exporter": "python",
   "pygments_lexer": "ipython3",
   "version": "3.6.4"
  }
 },
 "nbformat": 4,
 "nbformat_minor": 2
}
