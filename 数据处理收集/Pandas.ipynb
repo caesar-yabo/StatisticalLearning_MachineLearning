{
 "cells": [
  {
   "cell_type": "code",
   "execution_count": null,
   "metadata": {},
   "outputs": [],
   "source": [
    "import pandas as pd\n",
    "df = open('D:\\\\My_python_Data\\Jupyter\\\\2016liangqi.csv')\n",
    "df = pd.read_csv(df, header = 0)#header关键字告诉Pandas这些数据是否有列名，在哪里。如果没有列名，你可以将其置为None。Pandas非常智能，所以你可以省略这一关键字。\n",
    "df.head()\n",
    "df.tail()\n",
    "df.columns = ['a', 'b'] #更改列名\n",
    "len(df)  #行数\n",
    "\n",
    "pd.options.display.float_format = '{:,.3f}'.format  #设置输出格式为小数点后三位\n",
    "df.describe()\n",
    "\n",
    "#提取某列\n",
    "df[['记录编码', '物种编码']]  #Note:两个括号\n",
    "\n",
    "df.记录编码 \n",
    "\n",
    "df.温度_min > 20 #返回布尔值的datafram\n",
    "\n",
    "df[df.温度_min > 20]  #根据条件选择需要的列\n",
    "\n",
    "#值得注意的是，由于操作符优先级的问题，在这里你不可以使用关键字‘and’，而只能使用’&’与括号\n",
    "df[(df.温度_min > 20) & (df.温度_max > 30)] #多个条件组合\n",
    "\n",
    "#如果在你的数据中有字符串，你也可以使用字符串方法来过滤数据。\n",
    "#注意到你必须使用.str.[string method]，你不能直接在字符串上直接调用字符串方法。\n",
    "#这一语句返回记录编码以‘500’开头的所有条目。\n",
    "df[df.记录编码.str.startswith('500')]\n",
    "\n",
    "\n",
    "\n",
    "#提取某行\n",
    "df.iloc[1] #提取第二行，注意从0开始计数\n",
    "df.iloc[1：4] \n",
    "\n",
    "#若想提取不相连的某些行，先将要提取的行写进数组【】，之后调用该数组\n",
    "c = [1,2,5]\n",
    "df.iloc[c]\n",
    "\n",
    "#方法二\n",
    "df.iloc[[1, 2, 5]]\n",
    "\n",
    "\n",
    "endswith()函数\n",
    "\n"
   ]
  },
  {
   "cell_type": "code",
   "execution_count": null,
   "metadata": {},
   "outputs": [],
   "source": [
    "#pandas超全总结\n",
    "http://blog.csdn.net/liufang0001/article/details/77856255"
   ]
  }
 ],
 "metadata": {
  "kernelspec": {
   "display_name": "Python 3",
   "language": "python",
   "name": "python3"
  },
  "language_info": {
   "codemirror_mode": {
    "name": "ipython",
    "version": 3
   },
   "file_extension": ".py",
   "mimetype": "text/x-python",
   "name": "python",
   "nbconvert_exporter": "python",
   "pygments_lexer": "ipython3",
   "version": "3.6.4"
  }
 },
 "nbformat": 4,
 "nbformat_minor": 2
}
