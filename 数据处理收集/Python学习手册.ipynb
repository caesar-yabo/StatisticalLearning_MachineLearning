{
 "cells": [
  {
   "cell_type": "code",
   "execution_count": 2,
   "metadata": {},
   "outputs": [
    {
     "data": {
      "text/plain": [
       "'spam, eggs, and SPAM'"
      ]
     },
     "execution_count": 2,
     "metadata": {},
     "output_type": "execute_result"
    }
   ],
   "source": [
    "'%s, eggs, and %s' % ('spam', 'SPAM')\n",
    "'{0}, eggs, and {1}'.format('spam', 'SPAM')"
   ]
  },
  {
   "cell_type": "code",
   "execution_count": 4,
   "metadata": {},
   "outputs": [],
   "source": [
    "#查看对象的所有属性\n",
    "dir(str)\n",
    "help(str.replace)"
   ]
  },
  {
   "cell_type": "code",
   "execution_count": null,
   "metadata": {},
   "outputs": [],
   "source": [
    "#列表解析，提取列表的第二列\n",
    "#列表解析编写在方括号中,列表，集合和字典都可以用解析来创建\n",
    "M = [[1, 2, 3], [4, 5, 6], [7, 8, 9]]\n",
    "col2 = [row[1] for row in M]\n",
    "col2\n",
    "\n",
    "col2 = [row[1] for row in M if row[2]% 2 == 1]\n",
    "\n",
    "\n",
    "#查看列表解析，map函数，filter函数\n"
   ]
  },
  {
   "cell_type": "code",
   "execution_count": null,
   "metadata": {},
   "outputs": [],
   "source": [
    "D = {'a':1, 'c':2}\n",
    "value = D['a'] if 'a' in D else 0"
   ]
  }
 ],
 "metadata": {
  "kernelspec": {
   "display_name": "Python 3",
   "language": "python",
   "name": "python3"
  },
  "language_info": {
   "codemirror_mode": {
    "name": "ipython",
    "version": 3
   },
   "file_extension": ".py",
   "mimetype": "text/x-python",
   "name": "python",
   "nbconvert_exporter": "python",
   "pygments_lexer": "ipython3",
   "version": "3.6.4"
  }
 },
 "nbformat": 4,
 "nbformat_minor": 2
}
