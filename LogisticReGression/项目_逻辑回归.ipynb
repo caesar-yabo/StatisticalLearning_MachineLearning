{
 "cells": [
  {
   "cell_type": "code",
   "execution_count": 19,
   "metadata": {},
   "outputs": [],
   "source": [
    "s = ['白鹡鸰 ',  '白头鹎 ', '北红尾鸲 ', '大斑啄木鸟 ', '大山雀 ', '红头穗鹛 ', '红嘴蓝鹊 ', '画眉 ', '环颈雉 ','黄腹山雀 ', '灰胸竹鸡 ', '麻雀 ', '普通翠鸟 ', '普通朱雀 ', '强脚树莺 ', '山斑鸠 ', '山麻雀 ', '松鸦 ', \n",
    "'乌鸫 ', '喜鹊 ']\n",
    "\n",
    "def score(name_csv):\n",
    "    import time\n",
    "    import math\n",
    "    import random\n",
    "\n",
    "    import pandas as pd\n",
    "    from sklearn.cross_validation import train_test_split\n",
    "    from sklearn.metrics import accuracy_score\n",
    "    \n",
    "    \n",
    "    \n",
    "\n",
    "\n",
    "    class LogisticRegression(object):\n",
    "\n",
    "        def __init__(self):\n",
    "            self.learning_step = 0.00001\n",
    "            self.max_iteration = 5000\n",
    "\n",
    "        def predict_(self,x):\n",
    "            wx = sum([self.w[j] * x[j] for j in range(len(self.w))])\n",
    "            exp_wx = math.exp(wx)\n",
    "\n",
    "            predict1 = exp_wx / (1 + exp_wx)\n",
    "            predict0 = 1 / (1 + exp_wx)\n",
    "\n",
    "            #print(predict1)\n",
    "\n",
    "            if predict1 > predict0:\n",
    "                return 1\n",
    "            else:\n",
    "                return 0\n",
    "\n",
    "\n",
    "        def train(self,features, labels):\n",
    "            self.w = [0.0] * (len(features[0]) + 1)\n",
    "\n",
    "            correct_count = 0\n",
    "            time = 0\n",
    "\n",
    "            while time < self.max_iteration:\n",
    "                index = random.randint(0, len(labels) - 1)\n",
    "                x = list(features[index])\n",
    "                x.append(1.0)\n",
    "                y = labels[index]\n",
    "\n",
    "                if y == self.predict_(x):\n",
    "                    correct_count += 1\n",
    "                    if correct_count > self.max_iteration:\n",
    "                        break\n",
    "                    continue\n",
    "\n",
    "                # print 'iterater times %d' % time\n",
    "                time += 1\n",
    "                correct_count = 0\n",
    "\n",
    "                wx = sum([self.w[i] * x[i] for i in range(len(self.w))])\n",
    "                exp_wx = math.exp(wx)\n",
    "\n",
    "                for i in range(len(self.w)):\n",
    "                    self.w[i] -= self.learning_step * \\\n",
    "                        (-y * x[i] + float(x[i] * exp_wx) / float(1 + exp_wx))\n",
    "\n",
    "\n",
    "        def predict(self,features):\n",
    "            labels = []\n",
    "\n",
    "            for feature in features:\n",
    "                x = list(feature)\n",
    "                x.append(1)\n",
    "                labels.append(self.predict_(x))\n",
    "\n",
    "\n",
    "            return labels\n",
    "    ################################################\n",
    "    if __name__ == \"__main__\":\n",
    "        #print( 'Start read data')\n",
    "\n",
    "        time_1 = time.time()\n",
    "\n",
    "        f = open(name_csv)\n",
    "        row_data = pd.read_csv(f)\n",
    "        imgs = row_data[['高温', 'A', 'B', 'C', 'D', 'E', 'F', 'G', 'H', 'I']]\n",
    "        labels = row_data[['个体数']]\n",
    "\n",
    "\n",
    "        imgs = imgs.values\n",
    "        labels = labels.values\n",
    "\n",
    "\n",
    "        train_features, test_features, train_labels, test_labels = train_test_split(imgs, labels, test_size=0.33, random_state=23323)\n",
    "\n",
    "\n",
    "        time_2 = time.time()\n",
    "        #print ('read data cost ',time_2 - time_1,' second','\\n')\n",
    "\n",
    "        #print ('Start training')\n",
    "        lr = LogisticRegression()\n",
    "        lr.train(train_features, train_labels)\n",
    "\n",
    "        test_predict = lr.predict(test_features)\n",
    "\n",
    "        score = accuracy_score(test_labels,test_predict)\n",
    "        #print('accuracy_score of' + name_csv[32:35], score)\n",
    "        print( s[i] + ' ' + '  '* (6 - len(s[i])) + str(score))\n",
    "\n",
    "\n"
   ]
  },
  {
   "cell_type": "code",
   "execution_count": 6,
   "metadata": {},
   "outputs": [],
   "source": [
    "s = ['白鹡鸰 ',  '白头鹎 ', '北红尾鸲 ', '大斑啄木鸟 ', '大山雀 ', '红头穗鹛 ', '红嘴蓝鹊 ', '画眉 ', '环颈雉 ','黄腹山雀 ', '灰胸竹鸡 ', '麻雀 ', '普通翠鸟 ', '普通朱雀 ', '强脚树莺 ', '山斑鸠 ', '山麻雀 ', '松鸦 ', \n",
    "'乌鸫 ', '喜鹊 ']"
   ]
  },
  {
   "cell_type": "code",
   "execution_count": 21,
   "metadata": {},
   "outputs": [
    {
     "name": "stdout",
     "output_type": "stream",
     "text": [
      "白鹡鸰      0.733500417710944\n",
      "白头鹎      0.7652464494569757\n",
      "北红尾鸲    0.6867167919799498\n",
      "大斑啄木鸟  0.5304928989139516\n",
      "大山雀      0.5463659147869674\n",
      "红头穗鹛    0.8939014202172096\n",
      "红嘴蓝鹊    0.5881370091896407\n",
      "画眉        0.34252297410192145\n",
      "环颈雉      0.7644110275689223\n",
      "黄腹山雀    0.924812030075188\n",
      "灰胸竹鸡    0.9456975772765246\n",
      "麻雀        0.4068504594820384\n",
      "普通翠鸟    0.9415204678362573\n",
      "普通朱雀    0.9782790309106099\n",
      "强脚树莺    0.5647451963241437\n",
      "山斑鸠      0.8203842940685045\n",
      "山麻雀      0.8521303258145363\n",
      "松鸦        0.3642439431913116\n",
      "乌鸫        0.4578111946532999\n",
      "喜鹊        0.5547201336675021\n"
     ]
    }
   ],
   "source": [
    "for i in range(len(s)):\n",
    "    name_csv = 'D:\\\\My_python_Data\\\\Jupyter\\\\2016鸟\\\\' + s[i] + '.csv'\n",
    "    score(name_csv)"
   ]
  },
  {
   "cell_type": "code",
   "execution_count": 8,
   "metadata": {},
   "outputs": [
    {
     "name": "stdout",
     "output_type": "stream",
     "text": [
      "白头鹎       白头鹎 \n"
     ]
    }
   ],
   "source": [
    "a = '白头鹎 '\n",
    "print(a +' '*(10-len(a))+a)"
   ]
  },
  {
   "cell_type": "code",
   "execution_count": null,
   "metadata": {},
   "outputs": [],
   "source": []
  },
  {
   "cell_type": "code",
   "execution_count": null,
   "metadata": {},
   "outputs": [],
   "source": []
  },
  {
   "cell_type": "code",
   "execution_count": null,
   "metadata": {},
   "outputs": [],
   "source": []
  },
  {
   "cell_type": "code",
   "execution_count": 1,
   "metadata": {},
   "outputs": [],
   "source": [
    "#调用包"
   ]
  },
  {
   "cell_type": "code",
   "execution_count": 6,
   "metadata": {},
   "outputs": [],
   "source": [
    "s = ['白鹡鸰 ',  '白头鹎 ', '北红尾鸲 ', '大斑啄木鸟 ', '大山雀 ', '红头穗鹛 ', '红嘴蓝鹊 ', '画眉 ', '环颈雉 ','黄腹山雀 ', '灰胸竹鸡 ', '麻雀 ', '普通翠鸟 ', '普通朱雀 ', '强脚树莺 ', '山斑鸠 ', '山麻雀 ', '松鸦 ', \n",
    "'乌鸫 ', '喜鹊 ']\n",
    "import numpy as np\n",
    "import pandas as pd\n",
    "import matplotlib.pyplot as plt\n",
    "%matplotlib inline\n",
    "from sklearn.cross_validation import train_test_split\n",
    "from sklearn.linear_model import LogisticRegressionCV\n",
    "from sklearn.metrics import accuracy_score\n",
    "\n",
    "def score(name_csv):\n",
    "    df = open(name_csv)\n",
    "    my_raw_data = pd.read_csv(df)\n",
    "    mydata = my_raw_data[['个体数', '低温', 'A', 'B', 'C', 'D', 'E', 'F', 'G', 'H', 'I']]\n",
    "    y = mydata.个体数\n",
    "    X = mydata[['低温', 'A', 'B', 'C', 'D', 'E', 'F', 'G', 'H', 'I']]\n",
    "    X_train, X_test, y_train, y_test = train_test_split(X, y, random_state=1)\n",
    "    logisticcv = LogisticRegressionCV(penalty = 'l2')\n",
    "    logisticcv.fit(X_train, y_train)\n",
    "    y_pred = logisticcv.predict(X_test)\n",
    "    score1 = accuracy_score(y_test, y_pred)\n",
    "    print(s[i] + ' ' + '  '* (6 - len(s[i])) + str(score1))"
   ]
  },
  {
   "cell_type": "code",
   "execution_count": 7,
   "metadata": {},
   "outputs": [
    {
     "name": "stdout",
     "output_type": "stream",
     "text": [
      "白鹡鸰      0.7442116868798236\n",
      "白头鹎      0.8313120176405733\n",
      "北红尾鸲    0.814773980154355\n",
      "大斑啄木鸟  0.8886438809261301\n",
      "大山雀      0.6041896361631753\n",
      "红头穗鹛    0.8787210584343991\n",
      "红嘴蓝鹊    0.7861080485115767\n",
      "画眉        0.8467475192943771\n",
      "环颈雉      0.7563395810363837\n",
      "黄腹山雀    0.9173098125689085\n",
      "灰胸竹鸡    0.9404630650496141\n",
      "麻雀        0.7034178610804851\n",
      "普通翠鸟    0.948180815876516\n",
      "普通朱雀    0.9746416758544653\n",
      "强脚树莺    0.8103638368246968\n",
      "山斑鸠      0.7960308710033076\n",
      "山麻雀      0.8930540242557883\n",
      "松鸦        0.9073869900771775\n",
      "乌鸫        0.9812568908489526\n",
      "喜鹊        0.8842337375964718\n"
     ]
    }
   ],
   "source": [
    "for i in range(len(s)):\n",
    "    name_csv = 'D:\\\\My_python_Data\\\\Jupyter\\\\2016鸟\\\\' + s[i] + '.csv'\n",
    "    score(name_csv)"
   ]
  },
  {
   "cell_type": "code",
   "execution_count": null,
   "metadata": {},
   "outputs": [],
   "source": []
  },
  {
   "cell_type": "code",
   "execution_count": null,
   "metadata": {},
   "outputs": [],
   "source": []
  },
  {
   "cell_type": "code",
   "execution_count": null,
   "metadata": {},
   "outputs": [],
   "source": [
    "生成虚拟变量\n",
    "import pandas as pd\n",
    "pd.get_dummies(mydata.生境编码)"
   ]
  },
  {
   "cell_type": "code",
   "execution_count": null,
   "metadata": {},
   "outputs": [],
   "source": []
  }
 ],
 "metadata": {
  "kernelspec": {
   "display_name": "Python 3",
   "language": "python",
   "name": "python3"
  },
  "language_info": {
   "codemirror_mode": {
    "name": "ipython",
    "version": 3
   },
   "file_extension": ".py",
   "mimetype": "text/x-python",
   "name": "python",
   "nbconvert_exporter": "python",
   "pygments_lexer": "ipython3",
   "version": "3.6.4"
  }
 },
 "nbformat": 4,
 "nbformat_minor": 2
}
