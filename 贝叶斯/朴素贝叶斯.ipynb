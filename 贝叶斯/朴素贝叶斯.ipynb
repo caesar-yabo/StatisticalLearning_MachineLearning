{
 "cells": [
  {
   "cell_type": "code",
   "execution_count": null,
   "metadata": {},
   "outputs": [],
   "source": [
    "http://www.cnblogs.com/pinard/p/6074222.html"
   ]
  },
  {
   "cell_type": "code",
   "execution_count": null,
   "metadata": {},
   "outputs": [],
   "source": [
    "在scikit-learn中，一共有3个朴素贝叶斯的分类算法类。分别是GaussianNB，MultinomialNB和BernoulliNB。其中\n",
    "GaussianNB就是先验为高斯分布的朴素贝叶斯，\n",
    "MultinomialNB就是先验为多项式分布的朴素贝叶斯，\n",
    "而BernoulliNB就是先验为伯努利分布的朴素贝叶斯。\n",
    "\n",
    "这三个类适用的分类场景各不相同，一般来说，\n",
    "如果样本特征的分布大部分是连续值，使用GaussianNB会比较好。\n",
    "如果如果样本特征的分大部分是多元离散值，使用MultinomialNB比较合适。\n",
    "而如果样本特征是二元离散值或者很稀疏的多元离散值，应该使用BernoulliNB。"
   ]
  },
  {
   "cell_type": "code",
   "execution_count": null,
   "metadata": {},
   "outputs": [],
   "source": [
    "GaussianNB类的主要参数仅有一个，即先验概率priors ，对应Y的各个类别的\n",
    "先验概率P(Y=Ck)。这个值默认不给出，如果不给出此时P(Y=Ck)=mk/m。\n",
    "其中m为训练集样本总数量，mk为输出为第k类别的训练集样本数。\n",
    "如果给出的话就以priors 为准。"
   ]
  },
  {
   "cell_type": "code",
   "execution_count": null,
   "metadata": {},
   "outputs": [],
   "source": [
    "在使用GaussianNB的fit方法拟合数据后，我们可以进行预测。\n",
    "此时预测有三种方法，包括predict，predict_log_proba和predict_proba。\n",
    "\n",
    "predict方法就是我们最常用的预测方法，直接给出测试集的预测类别输出。\n",
    "\n",
    "predict_proba则不同，它会给出测试集样本在各个类别上预测的概率。容易理解，predict_proba预测出的各个类别概率里的最大值对应的类别，也就是predict方法得到类别。\n",
    "\n",
    "predict_log_proba和predict_proba类似，它会给出测试集样本在各个类别上预测的概率的一个对数转化。转化后predict_log_proba预测出的各个类别对数概率里的最大值对应的类别，也就是predict方法得到类别。"
   ]
  },
  {
   "cell_type": "code",
   "execution_count": 2,
   "metadata": {},
   "outputs": [
    {
     "name": "stdout",
     "output_type": "stream",
     "text": [
      "==Predict result by predict==\n",
      "[1]\n",
      "==Predict result by predict_proba==\n",
      "[[9.99999949e-01 5.05653254e-08]]\n",
      "==Predict result by predict_log_proba==\n",
      "[[-5.05653266e-08 -1.67999998e+01]]\n"
     ]
    }
   ],
   "source": [
    "import numpy as np\n",
    "X = np.array([[-1, -1], [-2, -1], [-3, -2], [1, 1], [2, 1], [3, 2]])\n",
    "Y = np.array([1, 1, 1, 2, 2, 2])\n",
    "from sklearn.naive_bayes import GaussianNB\n",
    "clf = GaussianNB()\n",
    "#拟合数据\n",
    "clf.fit(X, Y)\n",
    "print (\"==Predict result by predict==\")\n",
    "print(clf.predict([[-0.8, -1]]))\n",
    "print (\"==Predict result by predict_proba==\")\n",
    "print(clf.predict_proba([[-0.8, -1]]))\n",
    "print (\"==Predict result by predict_log_proba==\")\n",
    "print(clf.predict_log_proba([[-0.8, -1]]))"
   ]
  },
  {
   "cell_type": "code",
   "execution_count": null,
   "metadata": {},
   "outputs": [],
   "source": [
    "从上面的结果可以看出，测试样本[-0.8,-1]的类别预测为类别1。具体的测试样本[-0.8,-1]被预测为1的概率为9.99999949e-01 ，远远大于预测为2的概率5.05653254e-08。这也是为什么最终的预测结果为1的原因了。\n",
    "\n",
    "此外，GaussianNB一个重要的功能是有 partial_fit方法，这个方法的一般用在如果训练集数据量非常大，一次不能全部载入内存的时候。这时我们可以把训练集分成若干等分，重复调用partial_fit来一步步的学习训练集，非常方便。后面讲到的MultinomialNB和BernoulliNB也有类似的功能。"
   ]
  },
  {
   "cell_type": "code",
   "execution_count": null,
   "metadata": {},
   "outputs": [],
   "source": []
  },
  {
   "cell_type": "code",
   "execution_count": null,
   "metadata": {},
   "outputs": [],
   "source": []
  },
  {
   "cell_type": "code",
   "execution_count": null,
   "metadata": {},
   "outputs": [],
   "source": [
    "MultinomialNB类使用总结"
   ]
  },
  {
   "cell_type": "code",
   "execution_count": null,
   "metadata": {},
   "outputs": [],
   "source": []
  },
  {
   "cell_type": "code",
   "execution_count": null,
   "metadata": {},
   "outputs": [],
   "source": [
    "BernoulliNB类使用总结"
   ]
  }
 ],
 "metadata": {
  "kernelspec": {
   "display_name": "Python 3",
   "language": "python",
   "name": "python3"
  },
  "language_info": {
   "codemirror_mode": {
    "name": "ipython",
    "version": 3
   },
   "file_extension": ".py",
   "mimetype": "text/x-python",
   "name": "python",
   "nbconvert_exporter": "python",
   "pygments_lexer": "ipython3",
   "version": "3.6.4"
  }
 },
 "nbformat": 4,
 "nbformat_minor": 2
}
